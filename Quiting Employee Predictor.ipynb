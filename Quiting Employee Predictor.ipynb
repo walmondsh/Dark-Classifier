{
 "cells": [
  {
   "cell_type": "markdown",
   "metadata": {},
   "source": [
    "# Quiting Employee Predictor"
   ]
  },
  {
   "cell_type": "markdown",
   "metadata": {},
   "source": [
    "***"
   ]
  },
  {
   "cell_type": "code",
   "execution_count": 1,
   "metadata": {},
   "outputs": [],
   "source": [
    "# Importing the Libraries\n",
    "import numpy as np\n",
    "import matplotlib.pyplot as plt\n",
    "import pandas as pd"
   ]
  },
  {
   "cell_type": "code",
   "execution_count": 3,
   "metadata": {},
   "outputs": [],
   "source": [
    "# Importing dataset\n",
    "dataset = pd.read_csv('Churn_Modelling.csv')\n",
    "X = dataset.iloc[:, 3: 13].values\n",
    "Y = dataset.iloc[:, 13].values"
   ]
  },
  {
   "cell_type": "code",
   "execution_count": 4,
   "metadata": {},
   "outputs": [
    {
     "name": "stderr",
     "output_type": "stream",
     "text": [
      "C:\\Users\\Walmond\\Anaconda3\\envs\\tf\\lib\\site-packages\\sklearn\\preprocessing\\_encoders.py:415: FutureWarning: The handling of integer data will change in version 0.22. Currently, the categories are determined based on the range [0, max(values)], while in the future they will be determined based on the unique values.\n",
      "If you want the future behaviour and silence this warning, you can specify \"categories='auto'\".\n",
      "In case you used a LabelEncoder before this OneHotEncoder to convert the categories to integers, then you can now use the OneHotEncoder directly.\n",
      "  warnings.warn(msg, FutureWarning)\n",
      "C:\\Users\\Walmond\\Anaconda3\\envs\\tf\\lib\\site-packages\\sklearn\\preprocessing\\_encoders.py:451: DeprecationWarning: The 'categorical_features' keyword is deprecated in version 0.20 and will be removed in 0.22. You can use the ColumnTransformer instead.\n",
      "  \"use the ColumnTransformer instead.\", DeprecationWarning)\n"
     ]
    }
   ],
   "source": [
    "# Encoding the Categorical Independent Variable\n",
    "from sklearn.preprocessing import LabelEncoder, OneHotEncoder\n",
    "labelencoder_X_1 = LabelEncoder()\n",
    "X[:, 1] = labelencoder_X_1.fit_transform(X[:, 1])\n",
    "labelencoder_X_2 = LabelEncoder()\n",
    "X[:, 2] = labelencoder_X_2.fit_transform(X[:, 2])\n",
    "# Extract value from categorical variable\n",
    "onehotencoder = OneHotEncoder(categorical_features = [1])\n",
    "X = onehotencoder.fit_transform(X).toarray()\n",
    "# Prevent double column in first categorical variable\n",
    "X = X[:, 1:]"
   ]
  },
  {
   "cell_type": "code",
   "execution_count": 5,
   "metadata": {},
   "outputs": [],
   "source": [
    "# Splitting Dataset\n",
    "from sklearn.model_selection import train_test_split\n",
    "X_train, X_test, Y_train, Y_test = train_test_split(X, Y, test_size = 0.2, random_state = 0)"
   ]
  },
  {
   "cell_type": "code",
   "execution_count": 6,
   "metadata": {},
   "outputs": [],
   "source": [
    "# Feature Scaling\n",
    "from sklearn.preprocessing import StandardScaler\n",
    "sc_X = StandardScaler()\n",
    "X_train = sc_X.fit_transform(X_train)\n",
    "X_test = sc_X.transform(X_test)"
   ]
  },
  {
   "cell_type": "code",
   "execution_count": 7,
   "metadata": {},
   "outputs": [
    {
     "name": "stderr",
     "output_type": "stream",
     "text": [
      "Using TensorFlow backend.\n"
     ]
    },
    {
     "name": "stdout",
     "output_type": "stream",
     "text": [
      "WARNING:tensorflow:From C:\\Users\\Walmond\\Anaconda3\\envs\\tf\\lib\\site-packages\\tensorflow\\python\\framework\\op_def_library.py:263: colocate_with (from tensorflow.python.framework.ops) is deprecated and will be removed in a future version.\n",
      "Instructions for updating:\n",
      "Colocations handled automatically by placer.\n"
     ]
    }
   ],
   "source": [
    "# Part 2 - Create the ANN\n",
    "import keras\n",
    "from keras.models import Sequential\n",
    "from keras.layers import Dense \n",
    "\n",
    "# Initializing the ANN\n",
    "classifier = Sequential()\n",
    "\n",
    "# Adding the input layer and the first hidden layer\n",
    "classifier.add(Dense(units = 6, kernel_initializer = 'uniform', activation = 'relu', input_dim = 11))\n",
    "\n",
    "# Adding Second hidden layer\n",
    "classifier.add(Dense(units = 6, kernel_initializer = 'uniform', activation = 'relu'))\n",
    "\n",
    "# Adding Third hidden layer\n",
    "classifier.add(Dense(units = 6, kernel_initializer = 'uniform', activation = 'relu'))\n",
    "\n",
    "# Adding output layer\n",
    "classifier.add(Dense(units = 1, kernel_initializer = 'uniform', activation = 'sigmoid'))\n",
    "\n",
    "# Compiling the ANN\n",
    "classifier.compile(optimizer = 'adam', loss = 'binary_crossentropy', metrics = ['accuracy'])"
   ]
  },
  {
   "cell_type": "code",
   "execution_count": 8,
   "metadata": {},
   "outputs": [
    {
     "name": "stdout",
     "output_type": "stream",
     "text": [
      "WARNING:tensorflow:From C:\\Users\\Walmond\\Anaconda3\\envs\\tf\\lib\\site-packages\\tensorflow\\python\\ops\\math_ops.py:3066: to_int32 (from tensorflow.python.ops.math_ops) is deprecated and will be removed in a future version.\n",
      "Instructions for updating:\n",
      "Use tf.cast instead.\n"
     ]
    },
    {
     "name": "stderr",
     "output_type": "stream",
     "text": [
      "C:\\Users\\Walmond\\Anaconda3\\envs\\tf\\lib\\site-packages\\ipykernel_launcher.py:2: UserWarning: The `nb_epoch` argument in `fit` has been renamed `epochs`.\n",
      "  \n"
     ]
    },
    {
     "name": "stdout",
     "output_type": "stream",
     "text": [
      "Epoch 1/100\n",
      "8000/8000 [==============================] - 1s 177us/step - loss: 0.4845 - acc: 0.7956\n",
      "Epoch 2/100\n",
      "8000/8000 [==============================] - 1s 92us/step - loss: 0.4293 - acc: 0.7960\n",
      "Epoch 3/100\n",
      "8000/8000 [==============================] - 1s 87us/step - loss: 0.4240 - acc: 0.7997\n",
      "Epoch 4/100\n",
      "8000/8000 [==============================] - 1s 85us/step - loss: 0.4207 - acc: 0.8214\n",
      "Epoch 5/100\n",
      "8000/8000 [==============================] - 1s 88us/step - loss: 0.4180 - acc: 0.8242\n",
      "Epoch 6/100\n",
      "8000/8000 [==============================] - 1s 82us/step - loss: 0.4161 - acc: 0.8274\n",
      "Epoch 7/100\n",
      "8000/8000 [==============================] - 1s 82us/step - loss: 0.4150 - acc: 0.8317\n",
      "Epoch 8/100\n",
      "8000/8000 [==============================] - 1s 83us/step - loss: 0.4138 - acc: 0.8315\n",
      "Epoch 9/100\n",
      "8000/8000 [==============================] - 1s 87us/step - loss: 0.4119 - acc: 0.8319\n",
      "Epoch 10/100\n",
      "8000/8000 [==============================] - 1s 92us/step - loss: 0.4110 - acc: 0.8331\n",
      "Epoch 11/100\n",
      "8000/8000 [==============================] - 1s 86us/step - loss: 0.4098 - acc: 0.8331\n",
      "Epoch 12/100\n",
      "8000/8000 [==============================] - 1s 77us/step - loss: 0.4096 - acc: 0.8345\n",
      "Epoch 13/100\n",
      "8000/8000 [==============================] - 1s 78us/step - loss: 0.4087 - acc: 0.8345\n",
      "Epoch 14/100\n",
      "8000/8000 [==============================] - 1s 82us/step - loss: 0.4074 - acc: 0.8355\n",
      "Epoch 15/100\n",
      "8000/8000 [==============================] - 1s 84us/step - loss: 0.4073 - acc: 0.8334\n",
      "Epoch 16/100\n",
      "8000/8000 [==============================] - 1s 92us/step - loss: 0.4069 - acc: 0.8332\n",
      "Epoch 17/100\n",
      "8000/8000 [==============================] - 1s 86us/step - loss: 0.4062 - acc: 0.8337\n",
      "Epoch 18/100\n",
      "8000/8000 [==============================] - 1s 112us/step - loss: 0.4053 - acc: 0.8337\n",
      "Epoch 19/100\n",
      "8000/8000 [==============================] - 1s 105us/step - loss: 0.4056 - acc: 0.8351\n",
      "Epoch 20/100\n",
      "8000/8000 [==============================] - 1s 85us/step - loss: 0.4055 - acc: 0.8341\n",
      "Epoch 21/100\n",
      "8000/8000 [==============================] - 1s 79us/step - loss: 0.4048 - acc: 0.8345\n",
      "Epoch 22/100\n",
      "8000/8000 [==============================] - 1s 78us/step - loss: 0.4048 - acc: 0.8336\n",
      "Epoch 23/100\n",
      "8000/8000 [==============================] - 1s 78us/step - loss: 0.4050 - acc: 0.8356\n",
      "Epoch 24/100\n",
      "8000/8000 [==============================] - 1s 79us/step - loss: 0.4043 - acc: 0.8330\n",
      "Epoch 25/100\n",
      "8000/8000 [==============================] - 1s 80us/step - loss: 0.4039 - acc: 0.8349\n",
      "Epoch 26/100\n",
      "8000/8000 [==============================] - 1s 81us/step - loss: 0.4036 - acc: 0.8345\n",
      "Epoch 27/100\n",
      "8000/8000 [==============================] - 1s 82us/step - loss: 0.4038 - acc: 0.8341\n",
      "Epoch 28/100\n",
      "8000/8000 [==============================] - 1s 78us/step - loss: 0.4032 - acc: 0.8342\n",
      "Epoch 29/100\n",
      "8000/8000 [==============================] - 1s 79us/step - loss: 0.4034 - acc: 0.8349\n",
      "Epoch 30/100\n",
      "8000/8000 [==============================] - 1s 80us/step - loss: 0.4031 - acc: 0.8339\n",
      "Epoch 31/100\n",
      "8000/8000 [==============================] - 1s 79us/step - loss: 0.4033 - acc: 0.8344\n",
      "Epoch 32/100\n",
      "8000/8000 [==============================] - 1s 79us/step - loss: 0.4029 - acc: 0.8320\n",
      "Epoch 33/100\n",
      "8000/8000 [==============================] - 1s 78us/step - loss: 0.4031 - acc: 0.8337\n",
      "Epoch 34/100\n",
      "8000/8000 [==============================] - 1s 79us/step - loss: 0.4029 - acc: 0.8331\n",
      "Epoch 35/100\n",
      "8000/8000 [==============================] - 1s 79us/step - loss: 0.4028 - acc: 0.8352\n",
      "Epoch 36/100\n",
      "8000/8000 [==============================] - 1s 78us/step - loss: 0.4022 - acc: 0.8350\n",
      "Epoch 37/100\n",
      "8000/8000 [==============================] - 1s 79us/step - loss: 0.4029 - acc: 0.8344\n",
      "Epoch 38/100\n",
      "8000/8000 [==============================] - 1s 78us/step - loss: 0.4027 - acc: 0.8335\n",
      "Epoch 39/100\n",
      "8000/8000 [==============================] - 1s 78us/step - loss: 0.4026 - acc: 0.8336\n",
      "Epoch 40/100\n",
      "8000/8000 [==============================] - 1s 85us/step - loss: 0.4023 - acc: 0.8326\n",
      "Epoch 41/100\n",
      "8000/8000 [==============================] - 1s 80us/step - loss: 0.4023 - acc: 0.8339\n",
      "Epoch 42/100\n",
      "8000/8000 [==============================] - 1s 83us/step - loss: 0.4026 - acc: 0.8342\n",
      "Epoch 43/100\n",
      "8000/8000 [==============================] - 1s 82us/step - loss: 0.4025 - acc: 0.8339\n",
      "Epoch 44/100\n",
      "8000/8000 [==============================] - 1s 88us/step - loss: 0.4026 - acc: 0.8344\n",
      "Epoch 45/100\n",
      "8000/8000 [==============================] - 1s 78us/step - loss: 0.4016 - acc: 0.8334\n",
      "Epoch 46/100\n",
      "8000/8000 [==============================] - 1s 77us/step - loss: 0.4023 - acc: 0.8345\n",
      "Epoch 47/100\n",
      "8000/8000 [==============================] - 1s 77us/step - loss: 0.4024 - acc: 0.8325\n",
      "Epoch 48/100\n",
      "8000/8000 [==============================] - 1s 78us/step - loss: 0.4019 - acc: 0.8346\n",
      "Epoch 49/100\n",
      "8000/8000 [==============================] - 1s 77us/step - loss: 0.4015 - acc: 0.8345\n",
      "Epoch 50/100\n",
      "8000/8000 [==============================] - 1s 78us/step - loss: 0.4026 - acc: 0.8334\n",
      "Epoch 51/100\n",
      "8000/8000 [==============================] - 1s 77us/step - loss: 0.4025 - acc: 0.8335\n",
      "Epoch 52/100\n",
      "8000/8000 [==============================] - 1s 78us/step - loss: 0.4022 - acc: 0.8367\n",
      "Epoch 53/100\n",
      "8000/8000 [==============================] - 1s 78us/step - loss: 0.4017 - acc: 0.8364\n",
      "Epoch 54/100\n",
      "8000/8000 [==============================] - 1s 77us/step - loss: 0.4021 - acc: 0.8322\n",
      "Epoch 55/100\n",
      "8000/8000 [==============================] - 1s 77us/step - loss: 0.4015 - acc: 0.8341\n",
      "Epoch 56/100\n",
      "8000/8000 [==============================] - 1s 77us/step - loss: 0.4019 - acc: 0.8327\n",
      "Epoch 57/100\n",
      "8000/8000 [==============================] - 1s 78us/step - loss: 0.4023 - acc: 0.8337\n",
      "Epoch 58/100\n",
      "8000/8000 [==============================] - 1s 78us/step - loss: 0.4020 - acc: 0.8361\n",
      "Epoch 59/100\n",
      "8000/8000 [==============================] - 1s 77us/step - loss: 0.4016 - acc: 0.8357\n",
      "Epoch 60/100\n",
      "8000/8000 [==============================] - 1s 78us/step - loss: 0.4014 - acc: 0.8349\n",
      "Epoch 61/100\n",
      "8000/8000 [==============================] - 1s 77us/step - loss: 0.4017 - acc: 0.8357\n",
      "Epoch 62/100\n",
      "8000/8000 [==============================] - 1s 77us/step - loss: 0.4018 - acc: 0.8346\n",
      "Epoch 63/100\n",
      "8000/8000 [==============================] - 1s 77us/step - loss: 0.4016 - acc: 0.8349\n",
      "Epoch 64/100\n",
      "8000/8000 [==============================] - 1s 78us/step - loss: 0.4018 - acc: 0.8355\n",
      "Epoch 65/100\n",
      "8000/8000 [==============================] - 1s 81us/step - loss: 0.4013 - acc: 0.8347\n",
      "Epoch 66/100\n",
      "8000/8000 [==============================] - 1s 82us/step - loss: 0.4014 - acc: 0.8359\n",
      "Epoch 67/100\n",
      "8000/8000 [==============================] - 1s 80us/step - loss: 0.4011 - acc: 0.8336\n",
      "Epoch 68/100\n",
      "8000/8000 [==============================] - 1s 84us/step - loss: 0.4007 - acc: 0.8345\n",
      "Epoch 69/100\n",
      "8000/8000 [==============================] - 1s 87us/step - loss: 0.4013 - acc: 0.8344\n",
      "Epoch 70/100\n",
      "8000/8000 [==============================] - 1s 80us/step - loss: 0.4015 - acc: 0.8346\n",
      "Epoch 71/100\n",
      "8000/8000 [==============================] - 1s 77us/step - loss: 0.4010 - acc: 0.8352\n",
      "Epoch 72/100\n",
      "8000/8000 [==============================] - 1s 78us/step - loss: 0.4013 - acc: 0.8326\n",
      "Epoch 73/100\n",
      "8000/8000 [==============================] - 1s 78us/step - loss: 0.4016 - acc: 0.8347\n",
      "Epoch 74/100\n",
      "8000/8000 [==============================] - 1s 77us/step - loss: 0.4017 - acc: 0.8340\n",
      "Epoch 75/100\n",
      "8000/8000 [==============================] - 1s 78us/step - loss: 0.4011 - acc: 0.8346\n",
      "Epoch 76/100\n",
      "8000/8000 [==============================] - 1s 77us/step - loss: 0.4007 - acc: 0.8349\n",
      "Epoch 77/100\n",
      "8000/8000 [==============================] - 1s 77us/step - loss: 0.4010 - acc: 0.8346\n",
      "Epoch 78/100\n",
      "8000/8000 [==============================] - 1s 77us/step - loss: 0.4014 - acc: 0.8327\n",
      "Epoch 79/100\n",
      "8000/8000 [==============================] - 1s 77us/step - loss: 0.4013 - acc: 0.8349\n",
      "Epoch 80/100\n",
      "8000/8000 [==============================] - 1s 77us/step - loss: 0.4019 - acc: 0.8335\n",
      "Epoch 81/100\n",
      "8000/8000 [==============================] - 1s 77us/step - loss: 0.4014 - acc: 0.8360\n",
      "Epoch 82/100\n",
      "8000/8000 [==============================] - 1s 77us/step - loss: 0.4012 - acc: 0.8366\n"
     ]
    },
    {
     "name": "stdout",
     "output_type": "stream",
     "text": [
      "Epoch 83/100\n",
      "8000/8000 [==============================] - 1s 78us/step - loss: 0.4011 - acc: 0.8359\n",
      "Epoch 84/100\n",
      "8000/8000 [==============================] - 1s 76us/step - loss: 0.4005 - acc: 0.8339\n",
      "Epoch 85/100\n",
      "8000/8000 [==============================] - 1s 77us/step - loss: 0.4016 - acc: 0.8339\n",
      "Epoch 86/100\n",
      "8000/8000 [==============================] - 1s 76us/step - loss: 0.4013 - acc: 0.8344\n",
      "Epoch 87/100\n",
      "8000/8000 [==============================] - 1s 77us/step - loss: 0.4014 - acc: 0.8352\n",
      "Epoch 88/100\n",
      "8000/8000 [==============================] - 1s 77us/step - loss: 0.4013 - acc: 0.8352\n",
      "Epoch 89/100\n",
      "8000/8000 [==============================] - 1s 77us/step - loss: 0.4019 - acc: 0.8352\n",
      "Epoch 90/100\n",
      "8000/8000 [==============================] - 1s 77us/step - loss: 0.4009 - acc: 0.8355\n",
      "Epoch 91/100\n",
      "8000/8000 [==============================] - 1s 84us/step - loss: 0.4006 - acc: 0.8371\n",
      "Epoch 92/100\n",
      "8000/8000 [==============================] - 1s 84us/step - loss: 0.4011 - acc: 0.8365\n",
      "Epoch 93/100\n",
      "8000/8000 [==============================] - 1s 86us/step - loss: 0.4010 - acc: 0.8350\n",
      "Epoch 94/100\n",
      "8000/8000 [==============================] - 1s 82us/step - loss: 0.4011 - acc: 0.8355\n",
      "Epoch 95/100\n",
      "8000/8000 [==============================] - 1s 81us/step - loss: 0.4012 - acc: 0.8349\n",
      "Epoch 96/100\n",
      "8000/8000 [==============================] - 1s 80us/step - loss: 0.4011 - acc: 0.8354\n",
      "Epoch 97/100\n",
      "8000/8000 [==============================] - 1s 78us/step - loss: 0.4010 - acc: 0.8349\n",
      "Epoch 98/100\n",
      "8000/8000 [==============================] - 1s 77us/step - loss: 0.4009 - acc: 0.8360\n",
      "Epoch 99/100\n",
      "8000/8000 [==============================] - 1s 77us/step - loss: 0.4005 - acc: 0.8337\n",
      "Epoch 100/100\n",
      "8000/8000 [==============================] - 1s 77us/step - loss: 0.4007 - acc: 0.8350\n"
     ]
    },
    {
     "data": {
      "text/plain": [
       "<keras.callbacks.History at 0x275ef5f3b70>"
      ]
     },
     "execution_count": 8,
     "metadata": {},
     "output_type": "execute_result"
    }
   ],
   "source": [
    "#Fitting the ANN to the training set\n",
    "classifier.fit(X_train, Y_train, batch_size = 10, nb_epoch = 100)"
   ]
  },
  {
   "cell_type": "code",
   "execution_count": 9,
   "metadata": {},
   "outputs": [],
   "source": [
    "# Predicting the Test result\n",
    "Y_Pred = classifier.predict(X_test)\n",
    "Y_Pred = (Y_Pred > 0.5)"
   ]
  },
  {
   "cell_type": "code",
   "execution_count": 11,
   "metadata": {},
   "outputs": [
    {
     "name": "stdout",
     "output_type": "stream",
     "text": [
      "[[1551   44]\n",
      " [ 277  128]]\n"
     ]
    }
   ],
   "source": [
    "# Making Confusion Matrix\n",
    "from sklearn.metrics import confusion_matrix\n",
    "cm = confusion_matrix(Y_test, Y_Pred)\n",
    "print(cm)"
   ]
  }
 ],
 "metadata": {
  "kernelspec": {
   "display_name": "Python 3",
   "language": "python",
   "name": "python3"
  },
  "language_info": {
   "codemirror_mode": {
    "name": "ipython",
    "version": 3
   },
   "file_extension": ".py",
   "mimetype": "text/x-python",
   "name": "python",
   "nbconvert_exporter": "python",
   "pygments_lexer": "ipython3",
   "version": "3.7.3"
  }
 },
 "nbformat": 4,
 "nbformat_minor": 2
}
